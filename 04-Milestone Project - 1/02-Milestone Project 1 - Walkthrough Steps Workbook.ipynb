{
 "cells": [
  {
   "cell_type": "markdown",
   "metadata": {},
   "source": [
    "___\n",
    "\n",
    "<a href='https://www.udemy.com/user/joseportilla/'><img src='../Pierian_Data_Logo.png'/></a>\n",
    "___\n",
    "<center><em>Content Copyright by Pierian Data</em></center>"
   ]
  },
  {
   "cell_type": "markdown",
   "metadata": {},
   "source": [
    "# Milestone Project 1: Walkthrough Steps Workbook\n",
    "\n",
    "Below is a set of steps for you to follow to try to create the Tic Tac Toe Milestone Project game!"
   ]
  },
  {
   "cell_type": "markdown",
   "metadata": {},
   "source": [
    "#### Some suggested tools before you get started:\n",
    "To take input from a user:\n",
    "\n",
    "    player1 = input(\"Please pick a marker 'X' or 'O'\")\n",
    "    \n",
    "Note that input() takes in a string. If you need an integer value, use\n",
    "\n",
    "    position = int(input('Please enter a number'))\n",
    "    \n",
    "<br>To clear the screen between moves:\n",
    "\n",
    "    from IPython.display import clear_output\n",
    "    clear_output()\n",
    "    \n",
    "Note that clear_output() will only work in jupyter. To clear the screen in other IDEs, consider:\n",
    "\n",
    "    print('\\n'*100)\n",
    "    \n",
    "This scrolls the previous board up out of view. Now on to the program!"
   ]
  },
  {
   "cell_type": "markdown",
   "metadata": {},
   "source": [
    "**Step 1: Write a function that can print out a board. Set up your board as a list, where each index 1-9 corresponds with a number on a number pad, so you get a 3 by 3 board representation.**"
   ]
  },
  {
   "cell_type": "code",
   "execution_count": 28,
   "metadata": {},
   "outputs": [
    {
     "ename": "SyntaxError",
     "evalue": "invalid syntax (<ipython-input-28-5bc82582aa66>, line 1)",
     "output_type": "error",
     "traceback": [
      "\u001b[0;36m  File \u001b[0;32m\"<ipython-input-28-5bc82582aa66>\"\u001b[0;36m, line \u001b[0;32m1\u001b[0m\n\u001b[0;31m    True? print(Hello) : print(Goodbye)\u001b[0m\n\u001b[0m        ^\u001b[0m\n\u001b[0;31mSyntaxError\u001b[0m\u001b[0;31m:\u001b[0m invalid syntax\n"
     ]
    }
   ],
   "source": [
    "True? print(Hello) : print(Goodbye)"
   ]
  },
  {
   "cell_type": "code",
   "execution_count": 10,
   "metadata": {},
   "outputs": [
    {
     "data": {
      "text/plain": [
       "[1, 2, 3, 4, 5, 6, 7, 8, 9]"
      ]
     },
     "execution_count": 10,
     "metadata": {},
     "output_type": "execute_result"
    }
   ],
   "source": [
    "list(n for n in range(1,10))"
   ]
  },
  {
   "cell_type": "code",
   "execution_count": 11,
   "metadata": {},
   "outputs": [
    {
     "data": {
      "text/plain": [
       "[0, 1, 2, 3, 4, 5, 6, 7, 8]"
      ]
     },
     "execution_count": 11,
     "metadata": {},
     "output_type": "execute_result"
    }
   ],
   "source": [
    "list(range(0,9))"
   ]
  },
  {
   "cell_type": "code",
   "execution_count": 5,
   "metadata": {},
   "outputs": [],
   "source": [
    "from IPython.display import clear_output\n",
    "\n",
    "def display_board(board):\n",
    "    clear_output()\n",
    "    for i in range(0, 7, 3):\n",
    "        print('{a:^3.1}|{b:^3.1}|{c:^3.1}'.format(a = board[i], b = board[i+1], c = board[i+2]))\n",
    "        if i != 6:\n",
    "            print('-----------') "
   ]
  },
  {
   "cell_type": "markdown",
   "metadata": {},
   "source": [
    "**TEST Step 1:** run your function on a test version of the board list, and make adjustments as necessary"
   ]
  },
  {
   "cell_type": "code",
   "execution_count": 13,
   "metadata": {},
   "outputs": [
    {
     "name": "stdout",
     "output_type": "stream",
     "text": [
      " # | X | O \n",
      "-----------\n",
      " X | O | X \n",
      "-----------\n",
      " O | X | O \n"
     ]
    }
   ],
   "source": [
    "test_board = ['#','X','O','X','O','X','O','X','O','X']\n",
    "display_board(test_board)"
   ]
  },
  {
   "cell_type": "markdown",
   "metadata": {},
   "source": [
    "**Step 2: Write a function that can take in a player input and assign their marker as 'X' or 'O'. Think about using *while* loops to continually ask until you get a correct answer.**"
   ]
  },
  {
   "cell_type": "code",
   "execution_count": 6,
   "metadata": {},
   "outputs": [],
   "source": [
    "def player_input():\n",
    "    marker = 'a'\n",
    "    marker_range = ['X', 'O']\n",
    "\n",
    "    while marker not in marker_range:\n",
    "        \n",
    "        marker = input('Choose a marker for your player 1, please: (X or O) ')\n",
    "        \n",
    "        if marker not in marker_range:\n",
    "            print(f'The option {marker} is not available.')\n",
    "    if marker == 'X':\n",
    "        player2 = 'O'\n",
    "    else:\n",
    "        player2 = 'X'\n",
    "    return (marker, player2)\n",
    "    "
   ]
  },
  {
   "cell_type": "markdown",
   "metadata": {},
   "source": [
    "**TEST Step 2:** run the function to make sure it returns the desired output"
   ]
  },
  {
   "cell_type": "code",
   "execution_count": 15,
   "metadata": {},
   "outputs": [
    {
     "name": "stdout",
     "output_type": "stream",
     "text": [
      "Choose a marker for your player 1, please: (X or O) \n",
      "The option  is not available.\n",
      "Choose a marker for your player 1, please: (X or O) X\n"
     ]
    },
    {
     "data": {
      "text/plain": [
       "'X'"
      ]
     },
     "execution_count": 15,
     "metadata": {},
     "output_type": "execute_result"
    }
   ],
   "source": [
    "player_input()"
   ]
  },
  {
   "cell_type": "markdown",
   "metadata": {},
   "source": [
    "**Step 3: Write a function that takes in the board list object, a marker ('X' or 'O'), and a desired position (number 1-9) and assigns it to the board.**"
   ]
  },
  {
   "cell_type": "code",
   "execution_count": 7,
   "metadata": {},
   "outputs": [],
   "source": [
    "def place_marker(board, marker, position):\n",
    "    board[position-1] = marker\n",
    "    return board"
   ]
  },
  {
   "cell_type": "markdown",
   "metadata": {},
   "source": [
    "**TEST Step 3:** run the place marker function using test parameters and display the modified board"
   ]
  },
  {
   "cell_type": "code",
   "execution_count": 17,
   "metadata": {},
   "outputs": [
    {
     "name": "stdout",
     "output_type": "stream",
     "text": [
      " # | X | O \n",
      "-----------\n",
      " X | O | X \n",
      "-----------\n",
      " O | X | O \n"
     ]
    }
   ],
   "source": [
    "place_marker(test_board,'X',4)\n",
    "display_board(test_board)"
   ]
  },
  {
   "cell_type": "markdown",
   "metadata": {},
   "source": [
    "**Step 4: Write a function that takes in a board and a mark (X or O) and then checks to see if that mark has won. **"
   ]
  },
  {
   "cell_type": "code",
   "execution_count": 9,
   "metadata": {},
   "outputs": [
    {
     "data": {
      "text/plain": [
       "['3', '3', '3']"
      ]
     },
     "execution_count": 9,
     "metadata": {},
     "output_type": "execute_result"
    }
   ],
   "source": [
    "list ('3' * 3)"
   ]
  },
  {
   "cell_type": "code",
   "execution_count": 8,
   "metadata": {},
   "outputs": [],
   "source": [
    "def win_check(board, mark):\n",
    "    win_configuration = list( mark * 3 )\n",
    "    for i in range(0, 3):\n",
    "        if (board[i:7+i:3] == win_configuration) or (board[i*3:i*3 + 3:1] == win_configuration):\n",
    "            return True\n",
    "    if (board[0:9:4] == win_configuration) or (board[2:7:2] == win_configuration):\n",
    "        return True\n",
    "    return False"
   ]
  },
  {
   "cell_type": "markdown",
   "metadata": {},
   "source": [
    "**TEST Step 4:** run the win_check function against our test_board - it should return True"
   ]
  },
  {
   "cell_type": "code",
   "execution_count": 11,
   "metadata": {},
   "outputs": [
    {
     "name": "stdout",
     "output_type": "stream",
     "text": [
      " # | X | O \n",
      "-----------\n",
      " X | O | X \n",
      "-----------\n",
      " O | X | O \n"
     ]
    }
   ],
   "source": [
    "display_board(test_board)"
   ]
  },
  {
   "cell_type": "code",
   "execution_count": 12,
   "metadata": {},
   "outputs": [
    {
     "name": "stdout",
     "output_type": "stream",
     "text": [
      "['#', 'X', 'O']\n",
      "['#', 'X', 'O']\n",
      "['X', 'O', 'X']\n",
      "['X', 'O', 'X']\n",
      "['O', 'X', 'O']\n",
      "['O', 'X', 'O']\n"
     ]
    }
   ],
   "source": [
    "for i in range(0, 3):\n",
    "    print(test_board[i:7+i:3])\n",
    "    print(test_board[i*3:i*3 + 3:1])"
   ]
  },
  {
   "cell_type": "code",
   "execution_count": 13,
   "metadata": {},
   "outputs": [
    {
     "data": {
      "text/plain": [
       "False"
      ]
     },
     "execution_count": 13,
     "metadata": {},
     "output_type": "execute_result"
    }
   ],
   "source": [
    "win_check(test_board,'X')"
   ]
  },
  {
   "cell_type": "markdown",
   "metadata": {},
   "source": [
    "**Step 5: Write a function that uses the random module to randomly decide which player goes first. You may want to lookup random.randint() Return a string of which player went first.**"
   ]
  },
  {
   "cell_type": "code",
   "execution_count": 9,
   "metadata": {},
   "outputs": [],
   "source": [
    "import random\n",
    "\n",
    "def choose_first():\n",
    "    number = random.randint(0,1)\n",
    "    print(f'Player {number + 1} starts the game.')\n",
    "    return number"
   ]
  },
  {
   "cell_type": "markdown",
   "metadata": {},
   "source": [
    "**Step 6: Write a function that returns a boolean indicating whether a space on the board is freely available.**"
   ]
  },
  {
   "cell_type": "code",
   "execution_count": 10,
   "metadata": {},
   "outputs": [],
   "source": [
    "def space_check(board, position):\n",
    "    return not (board[position-1] == 'X' or board[position-1] == 'O')\n",
    "    "
   ]
  },
  {
   "cell_type": "markdown",
   "metadata": {},
   "source": [
    "**Step 7: Write a function that checks if the board is full and returns a boolean value. True if full, False otherwise.**"
   ]
  },
  {
   "cell_type": "code",
   "execution_count": 11,
   "metadata": {},
   "outputs": [],
   "source": [
    "def full_board_check(board):\n",
    "    for i in range(0,9):\n",
    "        if board[i] != 'X' and board[i] != 'O':\n",
    "            return False\n",
    "    return True"
   ]
  },
  {
   "cell_type": "code",
   "execution_count": 3,
   "metadata": {},
   "outputs": [
    {
     "name": "stdout",
     "output_type": "stream",
     "text": [
      "Full board!\n"
     ]
    },
    {
     "data": {
      "text/plain": [
       "True"
      ]
     },
     "execution_count": 3,
     "metadata": {},
     "output_type": "execute_result"
    }
   ],
   "source": [
    "full_board_check(list('X' * 9))"
   ]
  },
  {
   "cell_type": "markdown",
   "metadata": {},
   "source": [
    "**Step 8: Write a function that asks for a player's next position (as a number 1-9) and then uses the function from step 6 to check if it's a free position. If it is, then return the position for later use.**"
   ]
  },
  {
   "cell_type": "code",
   "execution_count": 12,
   "metadata": {},
   "outputs": [],
   "source": [
    "def player_choice(board):\n",
    "    position = 'pos'\n",
    "    position_range = list(range(1,10))\n",
    "    \n",
    "    position_in_range = False\n",
    "\n",
    "    while (not position.isdigit()) or (not position_in_range):\n",
    "        \n",
    "        position = input('Choose a position in the board: ')\n",
    "        \n",
    "        if not position.isdigit():\n",
    "            print(f'The position must be a number. Try again')\n",
    "        number_position = int(position)\n",
    "        if not (number_position in position_range):\n",
    "            print(f'The position {number_position} is not part of the board. Choose from {position_range[0]} to {position_range[len(position_range)-1]}')\n",
    "            position_in_range = False\n",
    "        else:\n",
    "            if not space_check(board, number_position):\n",
    "                print(f'The position {number_position} is not available')\n",
    "                position_in_range = False\n",
    "                continue\n",
    "            position_in_range = True \n",
    "    \n",
    "    return number_position\n",
    "        \n",
    "            "
   ]
  },
  {
   "cell_type": "code",
   "execution_count": 8,
   "metadata": {},
   "outputs": [
    {
     "data": {
      "text/plain": [
       "[1, 2, 3, 4, 5, 6, 7, 8, 9]"
      ]
     },
     "execution_count": 8,
     "metadata": {},
     "output_type": "execute_result"
    }
   ],
   "source": [
    "b1 = list(range(1,10)); b1"
   ]
  },
  {
   "cell_type": "code",
   "execution_count": 9,
   "metadata": {},
   "outputs": [
    {
     "name": "stdout",
     "output_type": "stream",
     "text": [
      "Choose a position in the board: 1\n"
     ]
    },
    {
     "data": {
      "text/plain": [
       "1"
      ]
     },
     "execution_count": 9,
     "metadata": {},
     "output_type": "execute_result"
    }
   ],
   "source": [
    "player_choice(b1)"
   ]
  },
  {
   "cell_type": "raw",
   "metadata": {},
   "source": [
    "**Step 9: Write a function that asks the player if they want to play again and returns a boolean True if they do want to play again.**"
   ]
  },
  {
   "cell_type": "code",
   "execution_count": 13,
   "metadata": {},
   "outputs": [],
   "source": [
    "def replay():\n",
    "    response = 'a'\n",
    "    response_range = ['Y', 'N']\n",
    "\n",
    "    while response not in response_range:\n",
    "        \n",
    "        response = input('Would you like to play again? (Y or N) ')\n",
    "        \n",
    "        if response not in response_range:\n",
    "            print(f'The option {response} is not available.')\n",
    "    \n",
    "    return response == 'Y'"
   ]
  },
  {
   "cell_type": "markdown",
   "metadata": {
    "collapsed": true
   },
   "source": [
    "**Step 10: Here comes the hard part! Use while loops and the functions you've made to run the game!**"
   ]
  },
  {
   "cell_type": "code",
   "execution_count": 14,
   "metadata": {},
   "outputs": [
    {
     "name": "stdout",
     "output_type": "stream",
     "text": [
      " X | O | X \n",
      "-----------\n",
      " O | O | X \n",
      "-----------\n",
      " X | X | O \n",
      "Would you like to play again? (Y or N) N\n"
     ]
    }
   ],
   "source": [
    "print('Welcome to Tic Tac Toe!')\n",
    "\n",
    "while True:\n",
    "    board = list(str(n) for n in range(1,10))\n",
    "    player1_marker, player2_marker = player_input()\n",
    "    \n",
    "    display_board(board)\n",
    "    player1_begins = (choose_first() == 0)\n",
    "    \n",
    "    while not full_board_check(board):\n",
    "        if player1_begins:\n",
    "            print(f'Player 1\\'s turn ({player1_marker})')\n",
    "            p1_position = player_choice(board)\n",
    "            place_marker(board,player1_marker,p1_position)\n",
    "            display_board(board)\n",
    "            if win_check(board, player1_marker):\n",
    "                print(f'Player 1 ({player1_marker}) has won!')\n",
    "                break\n",
    "            if full_board_check(board):\n",
    "                break\n",
    "            print(f'Player 2\\'s turn ({player2_marker})')\n",
    "            p2_position = player_choice(board)\n",
    "            place_marker(board,player2_marker,p2_position)\n",
    "            display_board(board)\n",
    "            if win_check(board, player2_marker):\n",
    "                print(f'Player 2 ({player2_marker}) has won!')\n",
    "                break\n",
    "        else:\n",
    "            print(f'Player 2\\'s turn ({player2_marker})')\n",
    "            p2_position = player_choice(board)\n",
    "            place_marker(board,player2_marker,p2_position)\n",
    "            display_board(board)\n",
    "            if win_check(board, player2_marker):\n",
    "                print(f'Player 2 ({player2_marker}) has won!')\n",
    "                break\n",
    "            if full_board_check(board):\n",
    "                break\n",
    "            print(f'Player 1\\'s turn ({player1_marker})')\n",
    "            p1_position = player_choice(board)\n",
    "            place_marker(board,player1_marker,p1_position)\n",
    "            display_board(board)\n",
    "            if win_check(board, player1_marker):\n",
    "                print(f'Player 1 ({player1_marker}) has won!')\n",
    "                break\n",
    "\n",
    "    if not replay():\n",
    "        break"
   ]
  },
  {
   "cell_type": "markdown",
   "metadata": {
    "collapsed": true
   },
   "source": [
    "## Good Job!"
   ]
  }
 ],
 "metadata": {
  "kernelspec": {
   "display_name": "Python 3",
   "language": "python",
   "name": "python3"
  },
  "language_info": {
   "codemirror_mode": {
    "name": "ipython",
    "version": 3
   },
   "file_extension": ".py",
   "mimetype": "text/x-python",
   "name": "python",
   "nbconvert_exporter": "python",
   "pygments_lexer": "ipython3",
   "version": "3.8.5"
  }
 },
 "nbformat": 4,
 "nbformat_minor": 1
}
